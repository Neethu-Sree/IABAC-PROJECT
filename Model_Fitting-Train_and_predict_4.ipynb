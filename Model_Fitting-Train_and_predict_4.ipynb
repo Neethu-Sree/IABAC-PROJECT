{
 "cells": [
  {
   "cell_type": "markdown",
   "id": "dbe9b227",
   "metadata": {},
   "source": [
    "##### Importing necessary libraries"
   ]
  },
  {
   "cell_type": "code",
   "execution_count": 1,
   "id": "f2d8efc4",
   "metadata": {},
   "outputs": [],
   "source": [
    "import numpy as np\n",
    "import pandas as pd\n",
    "import seaborn as sns\n",
    "import matplotlib.pyplot as plt\n",
    "%matplotlib inline\n",
    "\n",
    "import warnings\n",
    "warnings.filterwarnings('ignore')"
   ]
  },
  {
   "cell_type": "markdown",
   "id": "770aede8",
   "metadata": {},
   "source": [
    "##### Loading  the data\n"
   ]
  },
  {
   "cell_type": "code",
   "execution_count": 2,
   "id": "360f96ea",
   "metadata": {},
   "outputs": [],
   "source": [
    "data=pd.read_excel(\"INX_Future_Inc_Employee_Performance_CDS_Project2_Data_V1.8.xls\")"
   ]
  },
  {
   "cell_type": "markdown",
   "id": "be0f803c",
   "metadata": {},
   "source": [
    "###### Basic Checks\n"
   ]
  },
  {
   "cell_type": "code",
   "execution_count": 3,
   "id": "47b2a42f",
   "metadata": {},
   "outputs": [
    {
     "data": {
      "text/html": [
       "<div>\n",
       "<style scoped>\n",
       "    .dataframe tbody tr th:only-of-type {\n",
       "        vertical-align: middle;\n",
       "    }\n",
       "\n",
       "    .dataframe tbody tr th {\n",
       "        vertical-align: top;\n",
       "    }\n",
       "\n",
       "    .dataframe thead th {\n",
       "        text-align: right;\n",
       "    }\n",
       "</style>\n",
       "<table border=\"1\" class=\"dataframe\">\n",
       "  <thead>\n",
       "    <tr style=\"text-align: right;\">\n",
       "      <th></th>\n",
       "      <th>EmpNumber</th>\n",
       "      <th>Age</th>\n",
       "      <th>Gender</th>\n",
       "      <th>EducationBackground</th>\n",
       "      <th>MaritalStatus</th>\n",
       "      <th>EmpDepartment</th>\n",
       "      <th>EmpJobRole</th>\n",
       "      <th>BusinessTravelFrequency</th>\n",
       "      <th>DistanceFromHome</th>\n",
       "      <th>EmpEducationLevel</th>\n",
       "      <th>...</th>\n",
       "      <th>EmpRelationshipSatisfaction</th>\n",
       "      <th>TotalWorkExperienceInYears</th>\n",
       "      <th>TrainingTimesLastYear</th>\n",
       "      <th>EmpWorkLifeBalance</th>\n",
       "      <th>ExperienceYearsAtThisCompany</th>\n",
       "      <th>ExperienceYearsInCurrentRole</th>\n",
       "      <th>YearsSinceLastPromotion</th>\n",
       "      <th>YearsWithCurrManager</th>\n",
       "      <th>Attrition</th>\n",
       "      <th>PerformanceRating</th>\n",
       "    </tr>\n",
       "  </thead>\n",
       "  <tbody>\n",
       "    <tr>\n",
       "      <th>0</th>\n",
       "      <td>E1001000</td>\n",
       "      <td>32</td>\n",
       "      <td>Male</td>\n",
       "      <td>Marketing</td>\n",
       "      <td>Single</td>\n",
       "      <td>Sales</td>\n",
       "      <td>Sales Executive</td>\n",
       "      <td>Travel_Rarely</td>\n",
       "      <td>10</td>\n",
       "      <td>3</td>\n",
       "      <td>...</td>\n",
       "      <td>4</td>\n",
       "      <td>10</td>\n",
       "      <td>2</td>\n",
       "      <td>2</td>\n",
       "      <td>10</td>\n",
       "      <td>7</td>\n",
       "      <td>0</td>\n",
       "      <td>8</td>\n",
       "      <td>No</td>\n",
       "      <td>3</td>\n",
       "    </tr>\n",
       "    <tr>\n",
       "      <th>1</th>\n",
       "      <td>E1001006</td>\n",
       "      <td>47</td>\n",
       "      <td>Male</td>\n",
       "      <td>Marketing</td>\n",
       "      <td>Single</td>\n",
       "      <td>Sales</td>\n",
       "      <td>Sales Executive</td>\n",
       "      <td>Travel_Rarely</td>\n",
       "      <td>14</td>\n",
       "      <td>4</td>\n",
       "      <td>...</td>\n",
       "      <td>4</td>\n",
       "      <td>20</td>\n",
       "      <td>2</td>\n",
       "      <td>3</td>\n",
       "      <td>7</td>\n",
       "      <td>7</td>\n",
       "      <td>1</td>\n",
       "      <td>7</td>\n",
       "      <td>No</td>\n",
       "      <td>3</td>\n",
       "    </tr>\n",
       "    <tr>\n",
       "      <th>2</th>\n",
       "      <td>E1001007</td>\n",
       "      <td>40</td>\n",
       "      <td>Male</td>\n",
       "      <td>Life Sciences</td>\n",
       "      <td>Married</td>\n",
       "      <td>Sales</td>\n",
       "      <td>Sales Executive</td>\n",
       "      <td>Travel_Frequently</td>\n",
       "      <td>5</td>\n",
       "      <td>4</td>\n",
       "      <td>...</td>\n",
       "      <td>3</td>\n",
       "      <td>20</td>\n",
       "      <td>2</td>\n",
       "      <td>3</td>\n",
       "      <td>18</td>\n",
       "      <td>13</td>\n",
       "      <td>1</td>\n",
       "      <td>12</td>\n",
       "      <td>No</td>\n",
       "      <td>4</td>\n",
       "    </tr>\n",
       "    <tr>\n",
       "      <th>3</th>\n",
       "      <td>E1001009</td>\n",
       "      <td>41</td>\n",
       "      <td>Male</td>\n",
       "      <td>Human Resources</td>\n",
       "      <td>Divorced</td>\n",
       "      <td>Human Resources</td>\n",
       "      <td>Manager</td>\n",
       "      <td>Travel_Rarely</td>\n",
       "      <td>10</td>\n",
       "      <td>4</td>\n",
       "      <td>...</td>\n",
       "      <td>2</td>\n",
       "      <td>23</td>\n",
       "      <td>2</td>\n",
       "      <td>2</td>\n",
       "      <td>21</td>\n",
       "      <td>6</td>\n",
       "      <td>12</td>\n",
       "      <td>6</td>\n",
       "      <td>No</td>\n",
       "      <td>3</td>\n",
       "    </tr>\n",
       "    <tr>\n",
       "      <th>4</th>\n",
       "      <td>E1001010</td>\n",
       "      <td>60</td>\n",
       "      <td>Male</td>\n",
       "      <td>Marketing</td>\n",
       "      <td>Single</td>\n",
       "      <td>Sales</td>\n",
       "      <td>Sales Executive</td>\n",
       "      <td>Travel_Rarely</td>\n",
       "      <td>16</td>\n",
       "      <td>4</td>\n",
       "      <td>...</td>\n",
       "      <td>4</td>\n",
       "      <td>10</td>\n",
       "      <td>1</td>\n",
       "      <td>3</td>\n",
       "      <td>2</td>\n",
       "      <td>2</td>\n",
       "      <td>2</td>\n",
       "      <td>2</td>\n",
       "      <td>No</td>\n",
       "      <td>3</td>\n",
       "    </tr>\n",
       "  </tbody>\n",
       "</table>\n",
       "<p>5 rows × 28 columns</p>\n",
       "</div>"
      ],
      "text/plain": [
       "  EmpNumber  Age Gender EducationBackground MaritalStatus    EmpDepartment  \\\n",
       "0  E1001000   32   Male           Marketing        Single            Sales   \n",
       "1  E1001006   47   Male           Marketing        Single            Sales   \n",
       "2  E1001007   40   Male       Life Sciences       Married            Sales   \n",
       "3  E1001009   41   Male     Human Resources      Divorced  Human Resources   \n",
       "4  E1001010   60   Male           Marketing        Single            Sales   \n",
       "\n",
       "        EmpJobRole BusinessTravelFrequency  DistanceFromHome  \\\n",
       "0  Sales Executive           Travel_Rarely                10   \n",
       "1  Sales Executive           Travel_Rarely                14   \n",
       "2  Sales Executive       Travel_Frequently                 5   \n",
       "3          Manager           Travel_Rarely                10   \n",
       "4  Sales Executive           Travel_Rarely                16   \n",
       "\n",
       "   EmpEducationLevel  ...  EmpRelationshipSatisfaction  \\\n",
       "0                  3  ...                            4   \n",
       "1                  4  ...                            4   \n",
       "2                  4  ...                            3   \n",
       "3                  4  ...                            2   \n",
       "4                  4  ...                            4   \n",
       "\n",
       "   TotalWorkExperienceInYears  TrainingTimesLastYear  EmpWorkLifeBalance  \\\n",
       "0                          10                      2                   2   \n",
       "1                          20                      2                   3   \n",
       "2                          20                      2                   3   \n",
       "3                          23                      2                   2   \n",
       "4                          10                      1                   3   \n",
       "\n",
       "   ExperienceYearsAtThisCompany  ExperienceYearsInCurrentRole  \\\n",
       "0                            10                             7   \n",
       "1                             7                             7   \n",
       "2                            18                            13   \n",
       "3                            21                             6   \n",
       "4                             2                             2   \n",
       "\n",
       "  YearsSinceLastPromotion  YearsWithCurrManager  Attrition  PerformanceRating  \n",
       "0                       0                     8         No                  3  \n",
       "1                       1                     7         No                  3  \n",
       "2                       1                    12         No                  4  \n",
       "3                      12                     6         No                  3  \n",
       "4                       2                     2         No                  3  \n",
       "\n",
       "[5 rows x 28 columns]"
      ]
     },
     "execution_count": 3,
     "metadata": {},
     "output_type": "execute_result"
    }
   ],
   "source": [
    "data.head()"
   ]
  },
  {
   "cell_type": "code",
   "execution_count": 4,
   "id": "1b0073b0",
   "metadata": {},
   "outputs": [
    {
     "data": {
      "text/html": [
       "<div>\n",
       "<style scoped>\n",
       "    .dataframe tbody tr th:only-of-type {\n",
       "        vertical-align: middle;\n",
       "    }\n",
       "\n",
       "    .dataframe tbody tr th {\n",
       "        vertical-align: top;\n",
       "    }\n",
       "\n",
       "    .dataframe thead th {\n",
       "        text-align: right;\n",
       "    }\n",
       "</style>\n",
       "<table border=\"1\" class=\"dataframe\">\n",
       "  <thead>\n",
       "    <tr style=\"text-align: right;\">\n",
       "      <th></th>\n",
       "      <th>EmpNumber</th>\n",
       "      <th>Age</th>\n",
       "      <th>Gender</th>\n",
       "      <th>EducationBackground</th>\n",
       "      <th>MaritalStatus</th>\n",
       "      <th>EmpDepartment</th>\n",
       "      <th>EmpJobRole</th>\n",
       "      <th>BusinessTravelFrequency</th>\n",
       "      <th>DistanceFromHome</th>\n",
       "      <th>EmpEducationLevel</th>\n",
       "      <th>...</th>\n",
       "      <th>EmpRelationshipSatisfaction</th>\n",
       "      <th>TotalWorkExperienceInYears</th>\n",
       "      <th>TrainingTimesLastYear</th>\n",
       "      <th>EmpWorkLifeBalance</th>\n",
       "      <th>ExperienceYearsAtThisCompany</th>\n",
       "      <th>ExperienceYearsInCurrentRole</th>\n",
       "      <th>YearsSinceLastPromotion</th>\n",
       "      <th>YearsWithCurrManager</th>\n",
       "      <th>Attrition</th>\n",
       "      <th>PerformanceRating</th>\n",
       "    </tr>\n",
       "  </thead>\n",
       "  <tbody>\n",
       "    <tr>\n",
       "      <th>1195</th>\n",
       "      <td>E100992</td>\n",
       "      <td>27</td>\n",
       "      <td>Female</td>\n",
       "      <td>Medical</td>\n",
       "      <td>Divorced</td>\n",
       "      <td>Sales</td>\n",
       "      <td>Sales Executive</td>\n",
       "      <td>Travel_Frequently</td>\n",
       "      <td>3</td>\n",
       "      <td>1</td>\n",
       "      <td>...</td>\n",
       "      <td>2</td>\n",
       "      <td>6</td>\n",
       "      <td>3</td>\n",
       "      <td>3</td>\n",
       "      <td>6</td>\n",
       "      <td>5</td>\n",
       "      <td>0</td>\n",
       "      <td>4</td>\n",
       "      <td>No</td>\n",
       "      <td>4</td>\n",
       "    </tr>\n",
       "    <tr>\n",
       "      <th>1196</th>\n",
       "      <td>E100993</td>\n",
       "      <td>37</td>\n",
       "      <td>Male</td>\n",
       "      <td>Life Sciences</td>\n",
       "      <td>Single</td>\n",
       "      <td>Development</td>\n",
       "      <td>Senior Developer</td>\n",
       "      <td>Travel_Rarely</td>\n",
       "      <td>10</td>\n",
       "      <td>2</td>\n",
       "      <td>...</td>\n",
       "      <td>1</td>\n",
       "      <td>4</td>\n",
       "      <td>2</td>\n",
       "      <td>3</td>\n",
       "      <td>1</td>\n",
       "      <td>0</td>\n",
       "      <td>0</td>\n",
       "      <td>0</td>\n",
       "      <td>No</td>\n",
       "      <td>3</td>\n",
       "    </tr>\n",
       "    <tr>\n",
       "      <th>1197</th>\n",
       "      <td>E100994</td>\n",
       "      <td>50</td>\n",
       "      <td>Male</td>\n",
       "      <td>Medical</td>\n",
       "      <td>Married</td>\n",
       "      <td>Development</td>\n",
       "      <td>Senior Developer</td>\n",
       "      <td>Travel_Rarely</td>\n",
       "      <td>28</td>\n",
       "      <td>1</td>\n",
       "      <td>...</td>\n",
       "      <td>3</td>\n",
       "      <td>20</td>\n",
       "      <td>3</td>\n",
       "      <td>3</td>\n",
       "      <td>20</td>\n",
       "      <td>8</td>\n",
       "      <td>3</td>\n",
       "      <td>8</td>\n",
       "      <td>No</td>\n",
       "      <td>3</td>\n",
       "    </tr>\n",
       "    <tr>\n",
       "      <th>1198</th>\n",
       "      <td>E100995</td>\n",
       "      <td>34</td>\n",
       "      <td>Female</td>\n",
       "      <td>Medical</td>\n",
       "      <td>Single</td>\n",
       "      <td>Data Science</td>\n",
       "      <td>Data Scientist</td>\n",
       "      <td>Travel_Rarely</td>\n",
       "      <td>9</td>\n",
       "      <td>3</td>\n",
       "      <td>...</td>\n",
       "      <td>2</td>\n",
       "      <td>9</td>\n",
       "      <td>3</td>\n",
       "      <td>4</td>\n",
       "      <td>8</td>\n",
       "      <td>7</td>\n",
       "      <td>7</td>\n",
       "      <td>7</td>\n",
       "      <td>No</td>\n",
       "      <td>3</td>\n",
       "    </tr>\n",
       "    <tr>\n",
       "      <th>1199</th>\n",
       "      <td>E100998</td>\n",
       "      <td>24</td>\n",
       "      <td>Female</td>\n",
       "      <td>Life Sciences</td>\n",
       "      <td>Single</td>\n",
       "      <td>Sales</td>\n",
       "      <td>Sales Executive</td>\n",
       "      <td>Travel_Rarely</td>\n",
       "      <td>3</td>\n",
       "      <td>2</td>\n",
       "      <td>...</td>\n",
       "      <td>1</td>\n",
       "      <td>4</td>\n",
       "      <td>3</td>\n",
       "      <td>3</td>\n",
       "      <td>2</td>\n",
       "      <td>2</td>\n",
       "      <td>2</td>\n",
       "      <td>0</td>\n",
       "      <td>Yes</td>\n",
       "      <td>2</td>\n",
       "    </tr>\n",
       "  </tbody>\n",
       "</table>\n",
       "<p>5 rows × 28 columns</p>\n",
       "</div>"
      ],
      "text/plain": [
       "     EmpNumber  Age  Gender EducationBackground MaritalStatus EmpDepartment  \\\n",
       "1195   E100992   27  Female             Medical      Divorced         Sales   \n",
       "1196   E100993   37    Male       Life Sciences        Single   Development   \n",
       "1197   E100994   50    Male             Medical       Married   Development   \n",
       "1198   E100995   34  Female             Medical        Single  Data Science   \n",
       "1199   E100998   24  Female       Life Sciences        Single         Sales   \n",
       "\n",
       "            EmpJobRole BusinessTravelFrequency  DistanceFromHome  \\\n",
       "1195   Sales Executive       Travel_Frequently                 3   \n",
       "1196  Senior Developer           Travel_Rarely                10   \n",
       "1197  Senior Developer           Travel_Rarely                28   \n",
       "1198    Data Scientist           Travel_Rarely                 9   \n",
       "1199   Sales Executive           Travel_Rarely                 3   \n",
       "\n",
       "      EmpEducationLevel  ...  EmpRelationshipSatisfaction  \\\n",
       "1195                  1  ...                            2   \n",
       "1196                  2  ...                            1   \n",
       "1197                  1  ...                            3   \n",
       "1198                  3  ...                            2   \n",
       "1199                  2  ...                            1   \n",
       "\n",
       "      TotalWorkExperienceInYears  TrainingTimesLastYear  EmpWorkLifeBalance  \\\n",
       "1195                           6                      3                   3   \n",
       "1196                           4                      2                   3   \n",
       "1197                          20                      3                   3   \n",
       "1198                           9                      3                   4   \n",
       "1199                           4                      3                   3   \n",
       "\n",
       "      ExperienceYearsAtThisCompany  ExperienceYearsInCurrentRole  \\\n",
       "1195                             6                             5   \n",
       "1196                             1                             0   \n",
       "1197                            20                             8   \n",
       "1198                             8                             7   \n",
       "1199                             2                             2   \n",
       "\n",
       "     YearsSinceLastPromotion  YearsWithCurrManager  Attrition  \\\n",
       "1195                       0                     4         No   \n",
       "1196                       0                     0         No   \n",
       "1197                       3                     8         No   \n",
       "1198                       7                     7         No   \n",
       "1199                       2                     0        Yes   \n",
       "\n",
       "      PerformanceRating  \n",
       "1195                  4  \n",
       "1196                  3  \n",
       "1197                  3  \n",
       "1198                  3  \n",
       "1199                  2  \n",
       "\n",
       "[5 rows x 28 columns]"
      ]
     },
     "execution_count": 4,
     "metadata": {},
     "output_type": "execute_result"
    }
   ],
   "source": [
    "data.tail()"
   ]
  },
  {
   "cell_type": "code",
   "execution_count": 5,
   "id": "39881169",
   "metadata": {},
   "outputs": [],
   "source": [
    "data=data.drop(['EmpNumber'],axis=1)"
   ]
  },
  {
   "cell_type": "markdown",
   "id": "bab50ef2",
   "metadata": {},
   "source": [
    "## Model Creation"
   ]
  },
  {
   "cell_type": "code",
   "execution_count": 24,
   "id": "d55e6e71",
   "metadata": {},
   "outputs": [],
   "source": [
    "## Creating independent and dependent variable\n",
    "X = data.drop('PerformanceRating', axis=1)#independent variable \n",
    "y = data.PerformanceRating#dependent variable "
   ]
  },
  {
   "cell_type": "code",
   "execution_count": 25,
   "id": "64b3fec5",
   "metadata": {},
   "outputs": [],
   "source": [
    "## creating training and testing data\n",
    "from sklearn.model_selection import train_test_split\n",
    "X_train,X_test,y_train,y_test=train_test_split(X, y,random_state=3)"
   ]
  },
  {
   "cell_type": "code",
   "execution_count": 26,
   "id": "6878bdb2",
   "metadata": {},
   "outputs": [
    {
     "name": "stdout",
     "output_type": "stream",
     "text": [
      "Shape of x_train:  (900, 26)\n",
      "Shape of y_train:  (900,)\n",
      "Shape of x_test:  (300, 26)\n",
      "Shape of y_test:  (300,)\n"
     ]
    }
   ],
   "source": [
    "# Checking the dimension of our train and test splits\n",
    "print('Shape of x_train: ',X_train.shape)\n",
    "print('Shape of y_train: ',y_train.shape)\n",
    "print('Shape of x_test: ',X_test.shape)\n",
    "print('Shape of y_test: ',y_test.shape)"
   ]
  },
  {
   "cell_type": "markdown",
   "id": "c3a1aaa8",
   "metadata": {},
   "source": [
    "## 1. Decision Tree"
   ]
  },
  {
   "cell_type": "code",
   "execution_count": 27,
   "id": "e8a4aa32",
   "metadata": {},
   "outputs": [
    {
     "data": {
      "text/plain": [
       "DecisionTreeClassifier()"
      ]
     },
     "execution_count": 27,
     "metadata": {},
     "output_type": "execute_result"
    }
   ],
   "source": [
    "from sklearn.tree import DecisionTreeClassifier #importing decision tree from sklearn.tree\n",
    "dt=DecisionTreeClassifier() #object creation for decision tree  \n",
    "dt.fit(X_train, y_train) #training the model"
   ]
  },
  {
   "cell_type": "code",
   "execution_count": 28,
   "id": "d50f6731",
   "metadata": {},
   "outputs": [],
   "source": [
    "y_hat=dt.predict(X_train)#prediction\n",
    "y_hat1=dt.predict(X_test)#prediction"
   ]
  },
  {
   "cell_type": "code",
   "execution_count": 29,
   "id": "4bb7897d",
   "metadata": {},
   "outputs": [],
   "source": [
    "from sklearn.metrics import accuracy_score,classification_report,confusion_matrix,f1_score,recall_score,precision_score"
   ]
  },
  {
   "cell_type": "code",
   "execution_count": 30,
   "id": "c155b8ef",
   "metadata": {},
   "outputs": [
    {
     "name": "stdout",
     "output_type": "stream",
     "text": [
      "              precision    recall  f1-score   support\n",
      "\n",
      "           2       1.00      1.00      1.00       149\n",
      "           3       1.00      1.00      1.00       647\n",
      "           4       1.00      1.00      1.00       104\n",
      "\n",
      "    accuracy                           1.00       900\n",
      "   macro avg       1.00      1.00      1.00       900\n",
      "weighted avg       1.00      1.00      1.00       900\n",
      "\n"
     ]
    }
   ],
   "source": [
    "print(classification_report(y_train,y_hat)) # train data"
   ]
  },
  {
   "cell_type": "code",
   "execution_count": 31,
   "id": "fb9225ce",
   "metadata": {},
   "outputs": [
    {
     "name": "stdout",
     "output_type": "stream",
     "text": [
      "              precision    recall  f1-score   support\n",
      "\n",
      "           2       0.77      0.82      0.80        45\n",
      "           3       0.94      0.92      0.93       227\n",
      "           4       0.76      0.79      0.77        28\n",
      "\n",
      "    accuracy                           0.89       300\n",
      "   macro avg       0.82      0.84      0.83       300\n",
      "weighted avg       0.90      0.89      0.89       300\n",
      "\n"
     ]
    }
   ],
   "source": [
    "print(classification_report(y_test,y_hat1)) # test data"
   ]
  },
  {
   "cell_type": "markdown",
   "id": "a0264c75",
   "metadata": {},
   "source": [
    "***observation:accuracy score of train data is 100% and that of test data is 89% hence the model is overfitted***"
   ]
  },
  {
   "cell_type": "markdown",
   "id": "aa9f8ffd",
   "metadata": {},
   "source": [
    "## Hyperparameter tunning for decision tree"
   ]
  },
  {
   "cell_type": "code",
   "execution_count": 32,
   "id": "636fc8f6",
   "metadata": {},
   "outputs": [],
   "source": [
    "from sklearn.model_selection import GridSearchCV\n",
    "\n",
    "#creating dictionary--> key value pair of hyperparameters having key as parameter and values as its values\n",
    "params = {\n",
    "    \"criterion\":(\"gini\", \"entropy\"), #quality of split\n",
    "    \"splitter\":(\"best\", \"random\"), # searches the features for a split\n",
    "    \"max_depth\":(list(range(1,20))), #depth of tree range from 1 to 19\n",
    "    \"min_samples_split\":[2, 3, 4],    #the minimum number of samples required to split internal node\n",
    "    \"min_samples_leaf\":list(range(1, 20)),#minimum number of samples required to be at a leaf node,we are passing list which is range from 1 to 19 \n",
    "}\n",
    "\n",
    "\n",
    "tree_clf = DecisionTreeClassifier(random_state=3)#object creation for decision tree with random state 3\n",
    "tree_cv = GridSearchCV(tree_clf, params, scoring=\"f1\", n_jobs=-1, verbose=3, cv=3)\n",
    "\n",
    "#passing model to gridsearchCV \n",
    "\n",
    "#tree_cv.fit(X_train,y_train)#training data on gridsearch cv\n",
    "#best_params = tree_cv.best_params_#it will give you best parameters \n",
    "#print(f\"Best paramters: {best_params})\")#printing  best parameters"
   ]
  },
  {
   "cell_type": "code",
   "execution_count": 33,
   "id": "a837093c",
   "metadata": {},
   "outputs": [],
   "source": [
    "dt1 = DecisionTreeClassifier(criterion='gini',max_depth=6,min_samples_leaf= 1,min_samples_split=2,splitter='best')#passing best parameter to decision tree"
   ]
  },
  {
   "cell_type": "code",
   "execution_count": 34,
   "id": "236242af",
   "metadata": {},
   "outputs": [
    {
     "data": {
      "text/plain": [
       "DecisionTreeClassifier(max_depth=6)"
      ]
     },
     "execution_count": 34,
     "metadata": {},
     "output_type": "execute_result"
    }
   ],
   "source": [
    "dt1.fit(X_train, y_train)#traing model with best parameter"
   ]
  },
  {
   "cell_type": "code",
   "execution_count": 35,
   "id": "0687a452",
   "metadata": {},
   "outputs": [],
   "source": [
    "y_pred_train1  = dt1.predict(X_train)\n",
    "y_hat1 = dt1.predict(X_test)#predicting"
   ]
  },
  {
   "cell_type": "code",
   "execution_count": 36,
   "id": "7ccabc10",
   "metadata": {},
   "outputs": [
    {
     "name": "stdout",
     "output_type": "stream",
     "text": [
      "              precision    recall  f1-score   support\n",
      "\n",
      "           2       0.91      0.92      0.92       149\n",
      "           3       0.97      0.97      0.97       647\n",
      "           4       0.94      0.94      0.94       104\n",
      "\n",
      "    accuracy                           0.96       900\n",
      "   macro avg       0.94      0.94      0.94       900\n",
      "weighted avg       0.96      0.96      0.96       900\n",
      "\n"
     ]
    }
   ],
   "source": [
    "print(classification_report(y_train, y_pred_train1))   #train data"
   ]
  },
  {
   "cell_type": "code",
   "execution_count": 37,
   "id": "0e4370b0",
   "metadata": {},
   "outputs": [
    {
     "name": "stdout",
     "output_type": "stream",
     "text": [
      "              precision    recall  f1-score   support\n",
      "\n",
      "           2       0.78      0.87      0.82        45\n",
      "           3       0.95      0.93      0.94       227\n",
      "           4       0.81      0.79      0.80        28\n",
      "\n",
      "    accuracy                           0.91       300\n",
      "   macro avg       0.85      0.86      0.85       300\n",
      "weighted avg       0.91      0.91      0.91       300\n",
      "\n"
     ]
    }
   ],
   "source": [
    "print(classification_report(y_test,y_hat1))#it will give precision,recall,f1 scores and accuracy #test data"
   ]
  },
  {
   "cell_type": "markdown",
   "id": "a4386345",
   "metadata": {},
   "source": [
    "***Observation:The accuracy of trained data after using hyperparameter tuning is 96% and that of test data is 91%***"
   ]
  },
  {
   "cell_type": "markdown",
   "id": "e97c77af",
   "metadata": {},
   "source": [
    "## 2. RandomForest Classifier"
   ]
  },
  {
   "cell_type": "code",
   "execution_count": 38,
   "id": "df85a3de",
   "metadata": {},
   "outputs": [
    {
     "data": {
      "text/plain": [
       "RandomForestClassifier()"
      ]
     },
     "execution_count": 38,
     "metadata": {},
     "output_type": "execute_result"
    }
   ],
   "source": [
    "from sklearn.ensemble import RandomForestClassifier\n",
    "MR=RandomForestClassifier(n_estimators=100)\n",
    "MR.fit(X_train,y_train)"
   ]
  },
  {
   "cell_type": "code",
   "execution_count": 39,
   "id": "fd7e81c8",
   "metadata": {},
   "outputs": [],
   "source": [
    "rf_hat=MR.predict(X_train)#prediction\n",
    "rf_pred=MR.predict(X_test)"
   ]
  },
  {
   "cell_type": "code",
   "execution_count": 40,
   "id": "83e5d82f",
   "metadata": {},
   "outputs": [
    {
     "name": "stdout",
     "output_type": "stream",
     "text": [
      "              precision    recall  f1-score   support\n",
      "\n",
      "           2       1.00      1.00      1.00       149\n",
      "           3       1.00      1.00      1.00       647\n",
      "           4       1.00      1.00      1.00       104\n",
      "\n",
      "    accuracy                           1.00       900\n",
      "   macro avg       1.00      1.00      1.00       900\n",
      "weighted avg       1.00      1.00      1.00       900\n",
      "\n"
     ]
    }
   ],
   "source": [
    "print(classification_report(y_train,rf_hat))"
   ]
  },
  {
   "cell_type": "code",
   "execution_count": 41,
   "id": "016b345c",
   "metadata": {},
   "outputs": [
    {
     "name": "stdout",
     "output_type": "stream",
     "text": [
      "              precision    recall  f1-score   support\n",
      "\n",
      "           2       0.82      0.82      0.82        45\n",
      "           3       0.94      0.96      0.95       227\n",
      "           4       0.91      0.71      0.80        28\n",
      "\n",
      "    accuracy                           0.92       300\n",
      "   macro avg       0.89      0.83      0.86       300\n",
      "weighted avg       0.92      0.92      0.92       300\n",
      "\n"
     ]
    }
   ],
   "source": [
    "print(classification_report(y_test,rf_pred))"
   ]
  },
  {
   "cell_type": "markdown",
   "id": "2ae3abb2",
   "metadata": {},
   "source": [
    "***observation:accuracy score of train data is 100% and that of test data is 92% hence the model is overfitted***"
   ]
  },
  {
   "cell_type": "markdown",
   "id": "5c59b696",
   "metadata": {},
   "source": [
    "## Hyperparameter tunning for RandomForest"
   ]
  },
  {
   "cell_type": "code",
   "execution_count": 42,
   "id": "8b188b81",
   "metadata": {},
   "outputs": [],
   "source": [
    "from sklearn.model_selection import RandomizedSearchCV\n",
    "\n",
    "n_estimators = [int(x) for x in np.linspace(start=200, stop=2000, num=10)]#List Comprehension-using for loop in list\n",
    "max_features = ['auto', 'sqrt']#maximum number of features allowed to try in individual tree\n",
    "max_depth = [int(x) for x in np.linspace(10, 100, num=10)]#List Comprehension-using for loop in list\n",
    "max_depth.append(None)\n",
    "min_samples_split = [2, 5, 10]#minimum number of samples required to split an internal node\n",
    "min_samples_leaf = [1, 2, 4]#minimum number of samples required to be at a leaf node.\n",
    "bootstrap = [True, False]#sampling \n",
    "\n",
    "#dictionary for hyperparameters\n",
    "random_grid = {'n_estimators': n_estimators, 'max_features': max_features,\n",
    "               'max_depth': max_depth, 'min_samples_split': min_samples_split,\n",
    "               'min_samples_leaf': min_samples_leaf, 'bootstrap': bootstrap}\n",
    "\n",
    "rf_clf1 = RandomForestClassifier(random_state=42)#model\n",
    "\n",
    "rf_cv = RandomizedSearchCV(estimator=rf_clf1,param_distributions=random_grid, n_iter=100, cv=3, \n",
    "                               verbose=2, random_state=42, n_jobs=-1)\n",
    "#estimator--number of decision tree\n",
    "#scoring--->performance matrix to check performance\n",
    "#param_distribution-->hyperparametes(dictionary we created)\n",
    "#n_iter--->Number of parameter settings that are sampled. n_iter trades off runtime vs quality of the solution.default=10\n",
    "##cv------> number of flods\n",
    "#verbose=Controls the verbosity: the higher, the more messages.\n",
    "#n_jobs---->Number of jobs to run in parallel,-1 means using all processors.\n",
    "\n",
    "#rf_cv.fit(X_train, y_train)##training data on randomsearch cv\n",
    "#rf_best_params = rf_cv.best_params_##it will give you best parameters \n",
    "#print(f\"Best paramters: {rf_best_params})\")##printing  best parameters"
   ]
  },
  {
   "cell_type": "code",
   "execution_count": 43,
   "id": "cee1dc3a",
   "metadata": {},
   "outputs": [
    {
     "data": {
      "text/plain": [
       "RandomForestClassifier(max_depth=30, max_features='sqrt', min_samples_split=10,\n",
       "                       n_estimators=400)"
      ]
     },
     "execution_count": 43,
     "metadata": {},
     "output_type": "execute_result"
    }
   ],
   "source": [
    "rf_clf2 = RandomForestClassifier(n_estimators=400,min_samples_split=10,min_samples_leaf=1,max_features='sqrt',max_depth=30,bootstrap=True)#passing best parameter to randomforest\n",
    "rf_clf2.fit(X_train, y_train)"
   ]
  },
  {
   "cell_type": "code",
   "execution_count": 44,
   "id": "4695a3bc",
   "metadata": {},
   "outputs": [],
   "source": [
    "y_pred_train  = rf_clf2.predict(X_train)#training\n",
    "y_predict=rf_clf2.predict(X_test)#testing"
   ]
  },
  {
   "cell_type": "code",
   "execution_count": 45,
   "id": "086de27e",
   "metadata": {},
   "outputs": [
    {
     "name": "stdout",
     "output_type": "stream",
     "text": [
      "              precision    recall  f1-score   support\n",
      "\n",
      "           2       0.98      0.95      0.97       149\n",
      "           3       0.97      1.00      0.98       647\n",
      "           4       0.99      0.85      0.91       104\n",
      "\n",
      "    accuracy                           0.97       900\n",
      "   macro avg       0.98      0.93      0.95       900\n",
      "weighted avg       0.97      0.97      0.97       900\n",
      "\n"
     ]
    }
   ],
   "source": [
    "print(classification_report(y_train, y_pred_train))   #train data"
   ]
  },
  {
   "cell_type": "code",
   "execution_count": 46,
   "id": "0c055d03",
   "metadata": {},
   "outputs": [
    {
     "name": "stdout",
     "output_type": "stream",
     "text": [
      "              precision    recall  f1-score   support\n",
      "\n",
      "           2       0.87      0.87      0.87        45\n",
      "           3       0.94      0.97      0.95       227\n",
      "           4       0.95      0.71      0.82        28\n",
      "\n",
      "    accuracy                           0.93       300\n",
      "   macro avg       0.92      0.85      0.88       300\n",
      "weighted avg       0.93      0.93      0.93       300\n",
      "\n"
     ]
    }
   ],
   "source": [
    "print(classification_report(y_test, y_predict))   #test data"
   ]
  },
  {
   "cell_type": "markdown",
   "id": "66a07e9a",
   "metadata": {},
   "source": [
    "***Observation:The accuracy of trained data after using hyperparameter tuning is 97% and that of test data is 93%***"
   ]
  },
  {
   "cell_type": "code",
   "execution_count": 49,
   "id": "5e7d3e7c",
   "metadata": {},
   "outputs": [
    {
     "data": {
      "text/plain": [
       "array([0.02768862, 0.00362939, 0.0102967 , 0.00673482, 0.04282833,\n",
       "       0.04161624, 0.00567235, 0.02520531, 0.01352779, 0.2154587 ,\n",
       "       0.03500421, 0.01161197, 0.01017177, 0.01011396, 0.01721147,\n",
       "       0.00686158, 0.25835129, 0.01021014, 0.02257907, 0.0107934 ,\n",
       "       0.0247964 , 0.02944128, 0.03954238, 0.09369393, 0.02110767,\n",
       "       0.00585124])"
      ]
     },
     "execution_count": 49,
     "metadata": {},
     "output_type": "execute_result"
    }
   ],
   "source": [
    "imp=rf_clf2.feature_importances_\n",
    "imp"
   ]
  },
  {
   "cell_type": "code",
   "execution_count": 50,
   "id": "aff90bfb",
   "metadata": {},
   "outputs": [
    {
     "data": {
      "text/plain": [
       "<AxesSubplot:>"
      ]
     },
     "execution_count": 50,
     "metadata": {},
     "output_type": "execute_result"
    },
    {
     "data": {
      "image/png": "[encoded data removed]",
      "text/plain": [
       "<Figure size 1000x1000 with 1 Axes>"
      ]
     },
     "metadata": {},
     "output_type": "display_data"
    }
   ],
   "source": [
    "plt.figure(figsize=(10, 10))\n",
    "sns.barplot(y=data.columns[:26],x=imp)"
   ]
  },
  {
   "cell_type": "markdown",
   "id": "a16d4a60",
   "metadata": {},
   "source": [
    "***Observation:The top 3 Important Factors effecting employee performance are: 'EmpLastSalaryHikePercent', 'EmpEnvironmentSatisfaction', 'YearsSinceLastPromotion'***"
   ]
  },
  {
   "cell_type": "markdown",
   "id": "498f1af9",
   "metadata": {},
   "source": [
    "## 3. Gradient Boosting"
   ]
  },
  {
   "cell_type": "code",
   "execution_count": 51,
   "id": "d8057a41",
   "metadata": {},
   "outputs": [
    {
     "data": {
      "text/plain": [
       "GradientBoostingClassifier()"
      ]
     },
     "execution_count": 51,
     "metadata": {},
     "output_type": "execute_result"
    }
   ],
   "source": [
    "from sklearn.ensemble import GradientBoostingClassifier\n",
    "dt=GradientBoostingClassifier()\n",
    "dt.fit(X_train, y_train)"
   ]
  },
  {
   "cell_type": "code",
   "execution_count": 52,
   "id": "2ed189d8",
   "metadata": {},
   "outputs": [],
   "source": [
    "y_pred2=dt.predict(X_train)\n",
    "y_pred3=dt.predict(X_test)"
   ]
  },
  {
   "cell_type": "code",
   "execution_count": 53,
   "id": "15b5b793",
   "metadata": {},
   "outputs": [
    {
     "name": "stdout",
     "output_type": "stream",
     "text": [
      "              precision    recall  f1-score   support\n",
      "\n",
      "           2       0.98      0.99      0.99       149\n",
      "           3       1.00      1.00      1.00       647\n",
      "           4       1.00      1.00      1.00       104\n",
      "\n",
      "    accuracy                           1.00       900\n",
      "   macro avg       0.99      1.00      0.99       900\n",
      "weighted avg       1.00      1.00      1.00       900\n",
      "\n"
     ]
    }
   ],
   "source": [
    "print(classification_report(y_train,y_pred2))   #train data"
   ]
  },
  {
   "cell_type": "code",
   "execution_count": 54,
   "id": "ef2a21e9",
   "metadata": {},
   "outputs": [
    {
     "name": "stdout",
     "output_type": "stream",
     "text": [
      "              precision    recall  f1-score   support\n",
      "\n",
      "           2       0.81      0.84      0.83        45\n",
      "           3       0.94      0.96      0.95       227\n",
      "           4       0.91      0.75      0.82        28\n",
      "\n",
      "    accuracy                           0.92       300\n",
      "   macro avg       0.89      0.85      0.87       300\n",
      "weighted avg       0.92      0.92      0.92       300\n",
      "\n"
     ]
    }
   ],
   "source": [
    "print(classification_report(y_test, y_pred3)) #test data"
   ]
  },
  {
   "cell_type": "markdown",
   "id": "377696b9",
   "metadata": {},
   "source": [
    "***Observation:The accuracy of trained data is 100% and that of test data is 92 hence the model is overfitted%***"
   ]
  },
  {
   "cell_type": "markdown",
   "id": "b28de88f",
   "metadata": {},
   "source": [
    "## Hyperparameter tunning for Gradient Boosting"
   ]
  },
  {
   "cell_type": "code",
   "execution_count": 55,
   "id": "e720235a",
   "metadata": {},
   "outputs": [],
   "source": [
    "gb_classifier = GradientBoostingClassifier()\n",
    "\n",
    "# Define the parameter grid for grid search\n",
    "param_grid = {\n",
    "    'n_estimators': [100, 200, 300],\n",
    "    'learning_rate': [0.1, 0.01, 0.001],\n",
    "    'max_depth': [3, 5, 7]\n",
    "}\n",
    "\n",
    "# Perform grid search with cross-validation\n",
    "grid_search = GridSearchCV(gb_classifier, param_grid, cv=5)\n",
    "\n",
    "\n",
    "\n",
    "#grid_search.fit(X_train, y_train)\n",
    "#best_params = grid_search.best_params_\n",
    "#print(\"Best Hyperparameters:\", best_params)"
   ]
  },
  {
   "cell_type": "code",
   "execution_count": 56,
   "id": "b4076e5f",
   "metadata": {},
   "outputs": [],
   "source": [
    "best_gb_classifier = GradientBoostingClassifier(learning_rate= 0.01, max_depth=3, n_estimators= 300)"
   ]
  },
  {
   "cell_type": "code",
   "execution_count": 57,
   "id": "ebd02b4a",
   "metadata": {},
   "outputs": [],
   "source": [
    "# Fit the classifier to the training data\n",
    "best_gb_classifier.fit(X_train, y_train)\n",
    "# Make predictions on the test data\n",
    "y_ht=best_gb_classifier.predict(X_train)\n",
    "y_hat3_pr = best_gb_classifier.predict(X_test)"
   ]
  },
  {
   "cell_type": "code",
   "execution_count": 58,
   "id": "dbd433f6",
   "metadata": {},
   "outputs": [
    {
     "name": "stdout",
     "output_type": "stream",
     "text": [
      "              precision    recall  f1-score   support\n",
      "\n",
      "           2       0.91      0.92      0.91       149\n",
      "           3       0.96      0.98      0.97       647\n",
      "           4       0.98      0.86      0.91       104\n",
      "\n",
      "    accuracy                           0.95       900\n",
      "   macro avg       0.95      0.92      0.93       900\n",
      "weighted avg       0.95      0.95      0.95       900\n",
      "\n"
     ]
    }
   ],
   "source": [
    "print(classification_report(y_train,y_ht))"
   ]
  },
  {
   "cell_type": "code",
   "execution_count": 59,
   "id": "a92eb01f",
   "metadata": {},
   "outputs": [
    {
     "name": "stdout",
     "output_type": "stream",
     "text": [
      "              precision    recall  f1-score   support\n",
      "\n",
      "           2       0.78      0.87      0.82        45\n",
      "           3       0.95      0.95      0.95       227\n",
      "           4       0.95      0.75      0.84        28\n",
      "\n",
      "    accuracy                           0.92       300\n",
      "   macro avg       0.89      0.86      0.87       300\n",
      "weighted avg       0.92      0.92      0.92       300\n",
      "\n"
     ]
    }
   ],
   "source": [
    "print(classification_report(y_test,y_hat3_pr))"
   ]
  },
  {
   "cell_type": "markdown",
   "id": "941e7453",
   "metadata": {},
   "source": [
    "***Observation:The accuracy of trained data is 95% and that of test data is 92%***"
   ]
  },
  {
   "cell_type": "markdown",
   "id": "0ca4e9fd",
   "metadata": {},
   "source": [
    "## 4. Artificial Neural Network\n",
    "\n",
    "#Training the model"
   ]
  },
  {
   "cell_type": "code",
   "execution_count": 60,
   "id": "8231b46b",
   "metadata": {},
   "outputs": [
    {
     "data": {
      "text/plain": [
       "MLPClassifier(batch_size=10, hidden_layer_sizes=(100, 100, 100),\n",
       "              learning_rate_init=0.01, max_iter=2000, random_state=10)"
      ]
     },
     "execution_count": 60,
     "metadata": {},
     "output_type": "execute_result"
    }
   ],
   "source": [
    "from sklearn.neural_network import MLPClassifier\n",
    "mlp = MLPClassifier(hidden_layer_sizes=(100,100,100),batch_size=10,learning_rate_init=0.01,max_iter=2000,random_state=10)\n",
    "mlp.fit(X_train,y_train)"
   ]
  },
  {
   "cell_type": "code",
   "execution_count": 61,
   "id": "937926f5",
   "metadata": {},
   "outputs": [],
   "source": [
    "y_hat_mlp = mlp.predict(X_train)\n",
    "y_predict_mlp = mlp.predict(X_test)"
   ]
  },
  {
   "cell_type": "code",
   "execution_count": 62,
   "id": "2d3b09a9",
   "metadata": {},
   "outputs": [
    {
     "name": "stdout",
     "output_type": "stream",
     "text": [
      "              precision    recall  f1-score   support\n",
      "\n",
      "           2       0.58      0.40      0.48       149\n",
      "           3       0.76      0.93      0.84       647\n",
      "           4       0.00      0.00      0.00       104\n",
      "\n",
      "    accuracy                           0.74       900\n",
      "   macro avg       0.45      0.45      0.44       900\n",
      "weighted avg       0.64      0.74      0.68       900\n",
      "\n"
     ]
    }
   ],
   "source": [
    "print(classification_report(y_train,y_hat_mlp))"
   ]
  },
  {
   "cell_type": "code",
   "execution_count": 63,
   "id": "eaa405d1",
   "metadata": {},
   "outputs": [
    {
     "name": "stdout",
     "output_type": "stream",
     "text": [
      "              precision    recall  f1-score   support\n",
      "\n",
      "           2       0.62      0.47      0.53        45\n",
      "           3       0.80      0.94      0.87       227\n",
      "           4       0.00      0.00      0.00        28\n",
      "\n",
      "    accuracy                           0.78       300\n",
      "   macro avg       0.47      0.47      0.47       300\n",
      "weighted avg       0.70      0.78      0.74       300\n",
      "\n"
     ]
    }
   ],
   "source": [
    "print(classification_report(y_test,y_predict_mlp))"
   ]
  },
  {
   "cell_type": "markdown",
   "id": "61640918",
   "metadata": {},
   "source": [
    "***Observation:The accuracy of trained data is 74% and that of test data is 78%***"
   ]
  },
  {
   "cell_type": "markdown",
   "id": "88b861a6",
   "metadata": {},
   "source": [
    "## 5. Logistic Regression \n",
    "\n",
    "### Scaling data"
   ]
  },
  {
   "cell_type": "code",
   "execution_count": 64,
   "id": "2ee841e8",
   "metadata": {},
   "outputs": [],
   "source": [
    "from sklearn.preprocessing import StandardScaler\n",
    "scaler=StandardScaler()\n",
    "scaled_data=scaler.fit_transform(X)"
   ]
  },
  {
   "cell_type": "code",
   "execution_count": 65,
   "id": "b5637df9",
   "metadata": {},
   "outputs": [],
   "source": [
    "X_train,X_test,y_train,y_test=train_test_split(scaled_data, y,random_state=3)"
   ]
  },
  {
   "cell_type": "code",
   "execution_count": 66,
   "id": "594e6a38",
   "metadata": {},
   "outputs": [
    {
     "data": {
      "text/plain": [
       "LogisticRegression()"
      ]
     },
     "execution_count": 66,
     "metadata": {},
     "output_type": "execute_result"
    }
   ],
   "source": [
    "from sklearn.linear_model import LogisticRegression\n",
    "LR = LogisticRegression()\n",
    "LR.fit(X_train, y_train)"
   ]
  },
  {
   "cell_type": "code",
   "execution_count": 67,
   "id": "7686d754",
   "metadata": {},
   "outputs": [],
   "source": [
    "y_pred1 = LR.predict(X_train)\n",
    "y_pred = LR.predict(X_test)"
   ]
  },
  {
   "cell_type": "code",
   "execution_count": 68,
   "id": "6a2b8038",
   "metadata": {},
   "outputs": [
    {
     "name": "stdout",
     "output_type": "stream",
     "text": [
      "              precision    recall  f1-score   support\n",
      "\n",
      "           2       0.59      0.42      0.49       149\n",
      "           3       0.84      0.92      0.88       647\n",
      "           4       0.83      0.67      0.74       104\n",
      "\n",
      "    accuracy                           0.81       900\n",
      "   macro avg       0.76      0.67      0.71       900\n",
      "weighted avg       0.80      0.81      0.80       900\n",
      "\n"
     ]
    }
   ],
   "source": [
    "print(classification_report(y_train, y_pred1)) #train data"
   ]
  },
  {
   "cell_type": "code",
   "execution_count": 69,
   "id": "56fe0699",
   "metadata": {},
   "outputs": [
    {
     "name": "stdout",
     "output_type": "stream",
     "text": [
      "              precision    recall  f1-score   support\n",
      "\n",
      "           2       0.54      0.47      0.50        45\n",
      "           3       0.88      0.91      0.89       227\n",
      "           4       0.73      0.68      0.70        28\n",
      "\n",
      "    accuracy                           0.82       300\n",
      "   macro avg       0.72      0.68      0.70       300\n",
      "weighted avg       0.81      0.82      0.82       300\n",
      "\n"
     ]
    }
   ],
   "source": [
    "print(classification_report(y_test, y_pred)) #test data"
   ]
  },
  {
   "cell_type": "markdown",
   "id": "704bf6d4",
   "metadata": {},
   "source": [
    "***Observation:Accuracy of trained data is 81% and that of test data is 82%***"
   ]
  },
  {
   "cell_type": "markdown",
   "id": "cd6be3fd",
   "metadata": {},
   "source": [
    "## 6. Support Vector Machine"
   ]
  },
  {
   "cell_type": "code",
   "execution_count": 70,
   "id": "f8ff7846",
   "metadata": {},
   "outputs": [
    {
     "data": {
      "text/plain": [
       "SVC()"
      ]
     },
     "execution_count": 70,
     "metadata": {},
     "output_type": "execute_result"
    }
   ],
   "source": [
    "from sklearn.svm import SVC\n",
    "svclassifier = SVC() ## base model with default pbarameters\n",
    "svclassifier.fit(X_train, y_train)"
   ]
  },
  {
   "cell_type": "code",
   "execution_count": 71,
   "id": "59202d3a",
   "metadata": {},
   "outputs": [],
   "source": [
    "sv_hat=svclassifier.predict(X_train)#prediction\n",
    "y_hat=svclassifier.predict(X_test)"
   ]
  },
  {
   "cell_type": "code",
   "execution_count": 72,
   "id": "b0a4b5c4",
   "metadata": {},
   "outputs": [
    {
     "name": "stdout",
     "output_type": "stream",
     "text": [
      "              precision    recall  f1-score   support\n",
      "\n",
      "           2       0.98      0.59      0.74       149\n",
      "           3       0.88      1.00      0.93       647\n",
      "           4       0.99      0.72      0.83       104\n",
      "\n",
      "    accuracy                           0.90       900\n",
      "   macro avg       0.95      0.77      0.83       900\n",
      "weighted avg       0.91      0.90      0.89       900\n",
      "\n"
     ]
    }
   ],
   "source": [
    "print(classification_report(y_train,sv_hat))"
   ]
  },
  {
   "cell_type": "code",
   "execution_count": 73,
   "id": "5d4410b7",
   "metadata": {},
   "outputs": [
    {
     "name": "stdout",
     "output_type": "stream",
     "text": [
      "              precision    recall  f1-score   support\n",
      "\n",
      "           2       0.57      0.27      0.36        45\n",
      "           3       0.81      0.96      0.88       227\n",
      "           4       0.91      0.36      0.51        28\n",
      "\n",
      "    accuracy                           0.80       300\n",
      "   macro avg       0.76      0.53      0.59       300\n",
      "weighted avg       0.79      0.80      0.77       300\n",
      "\n"
     ]
    }
   ],
   "source": [
    "print(classification_report(y_test,y_hat))"
   ]
  },
  {
   "cell_type": "markdown",
   "id": "226085d4",
   "metadata": {},
   "source": [
    "***Observation:The accuracy of trained data is 90% and that of test data is 80%***"
   ]
  },
  {
   "cell_type": "markdown",
   "id": "64959b6c",
   "metadata": {},
   "source": [
    "## Bagging for Support Vector Machine"
   ]
  },
  {
   "cell_type": "code",
   "execution_count": 74,
   "id": "9a2bbf7c",
   "metadata": {},
   "outputs": [
    {
     "data": {
      "text/plain": [
       "BaggingClassifier(base_estimator=SVC(), n_estimators=20)"
      ]
     },
     "execution_count": 74,
     "metadata": {},
     "output_type": "execute_result"
    }
   ],
   "source": [
    "from sklearn.ensemble import BaggingClassifier#import bagging \n",
    "model_bagg1=BaggingClassifier(base_estimator=svclassifier,n_estimators=20) ## model objet creation\n",
    "#base_estimator---> algorithm which you want to pass\n",
    "#n_estimotors-----> number of base learners\n",
    "model_bagg1.fit(X_train,y_train) ## fitting the model"
   ]
  },
  {
   "cell_type": "code",
   "execution_count": 75,
   "id": "4304ad0d",
   "metadata": {},
   "outputs": [],
   "source": [
    "y_hat_bagg=model_bagg1.predict(X_test) ## getting the prediction\n",
    "y_hat_bagg1=model_bagg1.predict(X_train)"
   ]
  },
  {
   "cell_type": "code",
   "execution_count": 76,
   "id": "3309b325",
   "metadata": {},
   "outputs": [
    {
     "name": "stdout",
     "output_type": "stream",
     "text": [
      "              precision    recall  f1-score   support\n",
      "\n",
      "           2       0.97      0.66      0.78       149\n",
      "           3       0.89      0.99      0.94       647\n",
      "           4       0.98      0.76      0.85       104\n",
      "\n",
      "    accuracy                           0.91       900\n",
      "   macro avg       0.95      0.80      0.86       900\n",
      "weighted avg       0.92      0.91      0.90       900\n",
      "\n"
     ]
    }
   ],
   "source": [
    "print(classification_report(y_train,y_hat_bagg1))"
   ]
  },
  {
   "cell_type": "code",
   "execution_count": 77,
   "id": "e10966d8",
   "metadata": {},
   "outputs": [
    {
     "name": "stdout",
     "output_type": "stream",
     "text": [
      "              precision    recall  f1-score   support\n",
      "\n",
      "           2       0.62      0.29      0.39        45\n",
      "           3       0.82      0.96      0.89       227\n",
      "           4       0.79      0.39      0.52        28\n",
      "\n",
      "    accuracy                           0.81       300\n",
      "   macro avg       0.74      0.55      0.60       300\n",
      "weighted avg       0.79      0.81      0.78       300\n",
      "\n"
     ]
    }
   ],
   "source": [
    "print(classification_report(y_test,y_hat_bagg))"
   ]
  },
  {
   "cell_type": "markdown",
   "id": "e761ddd3",
   "metadata": {},
   "source": [
    "***Observation:The accuracy of trained data is 91% and that of test data is 81%***"
   ]
  },
  {
   "cell_type": "markdown",
   "id": "6d1457df",
   "metadata": {},
   "source": [
    "## 7. K Nearest Neighbour"
   ]
  },
  {
   "cell_type": "code",
   "execution_count": 78,
   "id": "0867552c",
   "metadata": {},
   "outputs": [
    {
     "data": {
      "text/plain": [
       "KNeighborsClassifier()"
      ]
     },
     "execution_count": 78,
     "metadata": {},
     "output_type": "execute_result"
    }
   ],
   "source": [
    "from sklearn.neighbors import KNeighborsClassifier#USING KNN\n",
    "KNN1=KNeighborsClassifier(n_neighbors=5) ## model object creation\n",
    "KNN1.fit(X_train,y_train)  ## fitting the model"
   ]
  },
  {
   "cell_type": "code",
   "execution_count": 79,
   "id": "d869092e",
   "metadata": {},
   "outputs": [],
   "source": [
    "y_hat_knn=KNN1.predict(X_test) ## getting the predict from created model\n",
    "knn_tr=KNN1.predict(X_train)"
   ]
  },
  {
   "cell_type": "code",
   "execution_count": 80,
   "id": "5edb0ba1",
   "metadata": {},
   "outputs": [
    {
     "name": "stdout",
     "output_type": "stream",
     "text": [
      "              precision    recall  f1-score   support\n",
      "\n",
      "           2       0.68      0.42      0.52       149\n",
      "           3       0.81      0.96      0.88       647\n",
      "           4       0.90      0.37      0.52       104\n",
      "\n",
      "    accuracy                           0.80       900\n",
      "   macro avg       0.80      0.58      0.64       900\n",
      "weighted avg       0.80      0.80      0.78       900\n",
      "\n"
     ]
    }
   ],
   "source": [
    "print(classification_report(y_train,knn_tr))"
   ]
  },
  {
   "cell_type": "code",
   "execution_count": 81,
   "id": "2001fa9f",
   "metadata": {},
   "outputs": [
    {
     "name": "stdout",
     "output_type": "stream",
     "text": [
      "              precision    recall  f1-score   support\n",
      "\n",
      "           2       0.37      0.31      0.34        45\n",
      "           3       0.80      0.90      0.84       227\n",
      "           4       0.50      0.11      0.18        28\n",
      "\n",
      "    accuracy                           0.74       300\n",
      "   macro avg       0.56      0.44      0.45       300\n",
      "weighted avg       0.70      0.74      0.71       300\n",
      "\n"
     ]
    }
   ],
   "source": [
    "print(classification_report(y_test,y_hat_knn))"
   ]
  },
  {
   "cell_type": "markdown",
   "id": "bcb1248e",
   "metadata": {},
   "source": [
    "***Observation:The accuracy of trained data is 80% and that of test data is 74%***"
   ]
  },
  {
   "cell_type": "markdown",
   "id": "5cf7e87a",
   "metadata": {},
   "source": [
    "## Principal Component Analysis"
   ]
  },
  {
   "cell_type": "code",
   "execution_count": 82,
   "id": "e6f66506",
   "metadata": {},
   "outputs": [],
   "source": [
    "df=pd.DataFrame(data=scaled_data,columns=X.columns)"
   ]
  },
  {
   "cell_type": "code",
   "execution_count": 83,
   "id": "71211735",
   "metadata": {},
   "outputs": [
    {
     "data": {
      "image/png": "[encoded data removed]",
      "text/plain": [
       "<Figure size 640x480 with 1 Axes>"
      ]
     },
     "metadata": {},
     "output_type": "display_data"
    }
   ],
   "source": [
    "## Getting the optimal number of PCA\n",
    "from sklearn.decomposition import PCA\n",
    "pca=PCA()\n",
    "principalComponents=pca.fit_transform(data)\n",
    "plt.figure()\n",
    "plt.plot(np.cumsum(pca.explained_variance_ratio_))\n",
    "plt.xlabel(\" Number of Components\")\n",
    "plt.ylabel('Variance (%)') # for each components\n",
    "plt.title(\"Explained Variance\")\n",
    "plt.show()"
   ]
  },
  {
   "cell_type": "code",
   "execution_count": 84,
   "id": "78a2f105",
   "metadata": {},
   "outputs": [
    {
     "name": "stdout",
     "output_type": "stream",
     "text": [
      "2\n",
      "3\n",
      "4\n",
      "5\n",
      "6\n",
      "7\n",
      "8\n",
      "9\n",
      "10\n",
      "10\n"
     ]
    }
   ],
   "source": [
    "pca=PCA(n_components=10)\n",
    "new_data=pca.fit_transform(df)\n",
    "i=1\n",
    "for i in range(1,10):\n",
    "    i=i+1\n",
    "    print(i)\n",
    "principal_df=pd.DataFrame(data=new_data,columns=print(i))"
   ]
  },
  {
   "cell_type": "code",
   "execution_count": 85,
   "id": "be3fd186",
   "metadata": {},
   "outputs": [
    {
     "name": "stdout",
     "output_type": "stream",
     "text": [
      "[0.16024778 0.22821741 0.28754385 0.33739406 0.38298552 0.42628867\n",
      " 0.46876197 0.51077208 0.5512195  0.59000396]\n"
     ]
    }
   ],
   "source": [
    "print(np.cumsum(pca.explained_variance_ratio_))"
   ]
  },
  {
   "cell_type": "markdown",
   "id": "311d8617",
   "metadata": {},
   "source": [
    "## Fitting Models after Principal Component Analysis\n",
    "\n",
    "# Logistic Regression with Principal Component Analysis"
   ]
  },
  {
   "cell_type": "code",
   "execution_count": 86,
   "id": "67c81ca1",
   "metadata": {},
   "outputs": [],
   "source": [
    "scaled_data=scaler.fit_transform(new_data)"
   ]
  },
  {
   "cell_type": "code",
   "execution_count": 87,
   "id": "5f924706",
   "metadata": {},
   "outputs": [],
   "source": [
    "X_train_pca,X_test_pca,y_train,y_test=train_test_split(scaled_data, y,random_state=3)"
   ]
  },
  {
   "cell_type": "code",
   "execution_count": 88,
   "id": "baf4d843",
   "metadata": {},
   "outputs": [
    {
     "data": {
      "text/plain": [
       "LogisticRegression()"
      ]
     },
     "execution_count": 88,
     "metadata": {},
     "output_type": "execute_result"
    }
   ],
   "source": [
    "from sklearn.linear_model import LogisticRegression\n",
    "LR = LogisticRegression()\n",
    "LR.fit(X_train_pca, y_train)"
   ]
  },
  {
   "cell_type": "code",
   "execution_count": 89,
   "id": "20c79399",
   "metadata": {},
   "outputs": [],
   "source": [
    "y_pred1 = LR.predict(X_train_pca)\n",
    "y_pred = LR.predict(X_test_pca)"
   ]
  },
  {
   "cell_type": "code",
   "execution_count": 90,
   "id": "acb6ceab",
   "metadata": {},
   "outputs": [
    {
     "name": "stdout",
     "output_type": "stream",
     "text": [
      "              precision    recall  f1-score   support\n",
      "\n",
      "           2       0.58      0.31      0.41        45\n",
      "           3       0.82      0.94      0.87       227\n",
      "           4       0.47      0.25      0.33        28\n",
      "\n",
      "    accuracy                           0.78       300\n",
      "   macro avg       0.62      0.50      0.53       300\n",
      "weighted avg       0.75      0.78      0.75       300\n",
      "\n"
     ]
    }
   ],
   "source": [
    "print(classification_report(y_test, y_pred)) #test data"
   ]
  },
  {
   "cell_type": "code",
   "execution_count": 91,
   "id": "e6d193b1",
   "metadata": {},
   "outputs": [
    {
     "name": "stdout",
     "output_type": "stream",
     "text": [
      "              precision    recall  f1-score   support\n",
      "\n",
      "           2       0.59      0.23      0.34       149\n",
      "           3       0.77      0.95      0.85       647\n",
      "           4       0.51      0.19      0.28       104\n",
      "\n",
      "    accuracy                           0.74       900\n",
      "   macro avg       0.62      0.46      0.49       900\n",
      "weighted avg       0.71      0.74      0.70       900\n",
      "\n"
     ]
    }
   ],
   "source": [
    "print(classification_report(y_train, y_pred1)) #train data"
   ]
  },
  {
   "cell_type": "markdown",
   "id": "f4f14be2",
   "metadata": {},
   "source": [
    "***Observation:Accuracy of train & test are reducing after fitting pca for logistic regression.***"
   ]
  },
  {
   "cell_type": "markdown",
   "id": "9a5169d2",
   "metadata": {},
   "source": [
    "## RandomForest Classifier with Principal Component Analysis"
   ]
  },
  {
   "cell_type": "code",
   "execution_count": 92,
   "id": "f6dd540e",
   "metadata": {},
   "outputs": [
    {
     "data": {
      "text/plain": [
       "RandomForestClassifier()"
      ]
     },
     "execution_count": 92,
     "metadata": {},
     "output_type": "execute_result"
    }
   ],
   "source": [
    "from sklearn.ensemble import RandomForestClassifier\n",
    "MR=RandomForestClassifier(n_estimators=100)\n",
    "MR.fit(X_train_pca,y_train)"
   ]
  },
  {
   "cell_type": "code",
   "execution_count": 93,
   "id": "f2c7386d",
   "metadata": {},
   "outputs": [],
   "source": [
    "rf_hat=MR.predict(X_train_pca)#prediction\n",
    "rf_pred=MR.predict(X_test_pca)"
   ]
  },
  {
   "cell_type": "code",
   "execution_count": 94,
   "id": "8c23bbad",
   "metadata": {},
   "outputs": [
    {
     "name": "stdout",
     "output_type": "stream",
     "text": [
      "              precision    recall  f1-score   support\n",
      "\n",
      "           2       1.00      1.00      1.00       149\n",
      "           3       1.00      1.00      1.00       647\n",
      "           4       1.00      1.00      1.00       104\n",
      "\n",
      "    accuracy                           1.00       900\n",
      "   macro avg       1.00      1.00      1.00       900\n",
      "weighted avg       1.00      1.00      1.00       900\n",
      "\n"
     ]
    }
   ],
   "source": [
    "print(classification_report(y_train,rf_hat))"
   ]
  },
  {
   "cell_type": "code",
   "execution_count": 95,
   "id": "3f96880f",
   "metadata": {},
   "outputs": [
    {
     "name": "stdout",
     "output_type": "stream",
     "text": [
      "              precision    recall  f1-score   support\n",
      "\n",
      "           2       0.52      0.24      0.33        45\n",
      "           3       0.78      0.95      0.86       227\n",
      "           4       0.40      0.07      0.12        28\n",
      "\n",
      "    accuracy                           0.76       300\n",
      "   macro avg       0.57      0.42      0.44       300\n",
      "weighted avg       0.71      0.76      0.71       300\n",
      "\n"
     ]
    }
   ],
   "source": [
    "print(classification_report(y_test,rf_pred))"
   ]
  },
  {
   "cell_type": "markdown",
   "id": "a714b322",
   "metadata": {},
   "source": [
    "***Observation:This also shows our data is overfit since trained data gives an accuracy of 100% and tested data gives that of 76%.***"
   ]
  },
  {
   "cell_type": "markdown",
   "id": "18df91cb",
   "metadata": {},
   "source": [
    "## Hyperparameter tunning for RandomForest with Principal Component Analysis"
   ]
  },
  {
   "cell_type": "code",
   "execution_count": 96,
   "id": "22571213",
   "metadata": {},
   "outputs": [
    {
     "data": {
      "text/plain": [
       "RandomForestClassifier(max_depth=30, max_features='sqrt', min_samples_split=10,\n",
       "                       n_estimators=400)"
      ]
     },
     "execution_count": 96,
     "metadata": {},
     "output_type": "execute_result"
    }
   ],
   "source": [
    "from sklearn.model_selection import RandomizedSearchCV\n",
    "\n",
    "n_estimators = [int(x) for x in np.linspace(start=200, stop=2000, num=10)]#List Comprehension-using for loop in list\n",
    "max_features = ['auto', 'sqrt']#maximum number of features allowed to try in individual tree\n",
    "max_depth = [int(x) for x in np.linspace(10, 100, num=10)]#List Comprehension-using for loop in list\n",
    "max_depth.append(None)\n",
    "min_samples_split = [2, 5, 10]#minimum number of samples required to split an internal node\n",
    "min_samples_leaf = [1, 2, 4]#minimum number of samples required to be at a leaf node.\n",
    "bootstrap = [True, False]#sampling \n",
    "\n",
    "#dictionary for hyperparameters\n",
    "random_grid = {'n_estimators': n_estimators, 'max_features': max_features,\n",
    "               'max_depth': max_depth, 'min_samples_split': min_samples_split,\n",
    "               'min_samples_leaf': min_samples_leaf, 'bootstrap': bootstrap}\n",
    "\n",
    "rf_clf1 = RandomForestClassifier(random_state=42)#model\n",
    "\n",
    "rf_cv = RandomizedSearchCV(estimator=rf_clf1,param_distributions=random_grid, n_iter=100, cv=3, \n",
    "                               verbose=2, random_state=42, n_jobs=-1)\n",
    "#estimator--number of decision tree\n",
    "#scoring--->performance matrix to check performance\n",
    "#param_distribution-->hyperparametes(dictionary we created)\n",
    "#n_iter--->Number of parameter settings that are sampled. n_iter trades off runtime vs quality of the solution.default=10\n",
    "##cv------> number of flods\n",
    "#verbose=Controls the verbosity: the higher, the more messages.\n",
    "#n_jobs---->Number of jobs to run in parallel,-1 means using all processors.\n",
    "\n",
    "#rf_cv.fit(X_train, y_train)##training data on randomsearch cv\n",
    "#rf_best_params = rf_cv.best_params_##it will give you best parameters \n",
    "#print(f\"Best paramters: {rf_best_params})\")##printing  best parameters\n",
    "\n",
    "rf_clf2 = RandomForestClassifier(n_estimators=400,min_samples_split=10,min_samples_leaf=1,max_features='sqrt',max_depth=30,bootstrap=True)#passing best parameter to randomforest\n",
    "rf_clf2.fit(X_train_pca, y_train)"
   ]
  },
  {
   "cell_type": "code",
   "execution_count": 97,
   "id": "a0f258bc",
   "metadata": {},
   "outputs": [],
   "source": [
    "y_predict=rf_clf2.predict(X_test_pca)#testing\n",
    "y_pred_train  = rf_clf2.predict(X_train_pca)#training"
   ]
  },
  {
   "cell_type": "code",
   "execution_count": 98,
   "id": "d3624fdc",
   "metadata": {},
   "outputs": [
    {
     "name": "stdout",
     "output_type": "stream",
     "text": [
      "              precision    recall  f1-score   support\n",
      "\n",
      "           2       0.99      0.74      0.85       149\n",
      "           3       0.89      1.00      0.94       647\n",
      "           4       1.00      0.59      0.74       104\n",
      "\n",
      "    accuracy                           0.91       900\n",
      "   macro avg       0.96      0.78      0.84       900\n",
      "weighted avg       0.92      0.91      0.90       900\n",
      "\n"
     ]
    }
   ],
   "source": [
    "print(classification_report(y_train, y_pred_train))   "
   ]
  },
  {
   "cell_type": "code",
   "execution_count": 99,
   "id": "77291067",
   "metadata": {},
   "outputs": [
    {
     "name": "stdout",
     "output_type": "stream",
     "text": [
      "              precision    recall  f1-score   support\n",
      "\n",
      "           2       0.43      0.13      0.20        45\n",
      "           3       0.77      0.96      0.85       227\n",
      "           4       0.40      0.07      0.12        28\n",
      "\n",
      "    accuracy                           0.75       300\n",
      "   macro avg       0.53      0.39      0.39       300\n",
      "weighted avg       0.69      0.75      0.69       300\n",
      "\n"
     ]
    }
   ],
   "source": [
    "print(classification_report(y_test, y_predict))   #test data"
   ]
  },
  {
   "cell_type": "markdown",
   "id": "0b086684",
   "metadata": {},
   "source": [
    "***Observation:Accuracy of train & test are reducing after fitting pca random forest model also.***"
   ]
  },
  {
   "cell_type": "code",
   "execution_count": null,
   "id": "dbc57e2e",
   "metadata": {},
   "outputs": [],
   "source": []
  }
 ],
 "metadata": {
  "kernelspec": {
   "display_name": "Python 3 (ipykernel)",
   "language": "python",
   "name": "python3"
  },
  "language_info": {
   "codemirror_mode": {
    "name": "ipython",
    "version": 3
   },
   "file_extension": ".py",
   "mimetype": "text/x-python",
   "name": "python",
   "nbconvert_exporter": "python",
   "pygments_lexer": "ipython3",
   "version": "3.9.13"
  }
 },
 "nbformat": 4,
 "nbformat_minor": 5
}
